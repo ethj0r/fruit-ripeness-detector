{
 "cells": [
  {
   "cell_type": "code",
   "execution_count": null,
   "id": "b9f5f744",
   "metadata": {},
   "outputs": [
    {
     "name": "stdout",
     "output_type": "stream",
     "text": [
      "Found 1490 files belonging to 4 classes.\n",
      "Found 375 files belonging to 4 classes.\n",
      "Kelas terdeteksi: ['matang', 'mentah', 'setengah-matang', 'terlalu-matang']\n",
      "Shape gambar: (32, 180, 180, 3)\n",
      "Label (one-hot): tf.Tensor([1. 0. 0. 0.], shape=(4,), dtype=float32)\n",
      "Epoch 1/10\n"
     ]
    },
    {
     "name": "stderr",
     "output_type": "stream",
     "text": [
      "2025-05-31 18:59:08.455864: I tensorflow/core/grappler/optimizers/custom_graph_optimizer_registry.cc:114] Plugin optimizer for device_type GPU is enabled.\n"
     ]
    },
    {
     "name": "stdout",
     "output_type": "stream",
     "text": [
      "47/47 [==============================] - ETA: 0s - loss: 1.4206 - accuracy: 0.4953"
     ]
    },
    {
     "name": "stderr",
     "output_type": "stream",
     "text": [
      "2025-05-31 18:59:12.161385: I tensorflow/core/grappler/optimizers/custom_graph_optimizer_registry.cc:114] Plugin optimizer for device_type GPU is enabled.\n"
     ]
    },
    {
     "name": "stdout",
     "output_type": "stream",
     "text": [
      "47/47 [==============================] - 4s 42ms/step - loss: 1.4206 - accuracy: 0.4953 - val_loss: 0.5606 - val_accuracy: 0.7813\n",
      "Epoch 2/10\n",
      "47/47 [==============================] - 1s 28ms/step - loss: 0.3210 - accuracy: 0.8678 - val_loss: 0.2459 - val_accuracy: 0.8853\n",
      "Epoch 3/10\n",
      "47/47 [==============================] - 1s 31ms/step - loss: 0.1532 - accuracy: 0.9383 - val_loss: 0.2667 - val_accuracy: 0.8720\n",
      "Epoch 4/10\n",
      "47/47 [==============================] - 1s 28ms/step - loss: 0.1177 - accuracy: 0.9537 - val_loss: 0.1152 - val_accuracy: 0.9547\n",
      "Epoch 5/10\n",
      "47/47 [==============================] - 1s 28ms/step - loss: 0.1332 - accuracy: 0.9456 - val_loss: 0.1183 - val_accuracy: 0.9440\n",
      "Epoch 6/10\n",
      "47/47 [==============================] - 1s 28ms/step - loss: 0.0680 - accuracy: 0.9758 - val_loss: 0.0614 - val_accuracy: 0.9733\n",
      "Epoch 7/10\n",
      "47/47 [==============================] - 1s 28ms/step - loss: 0.0761 - accuracy: 0.9711 - val_loss: 0.0977 - val_accuracy: 0.9600\n",
      "Epoch 8/10\n",
      "47/47 [==============================] - 1s 28ms/step - loss: 0.0893 - accuracy: 0.9664 - val_loss: 0.0833 - val_accuracy: 0.9627\n",
      "Epoch 9/10\n",
      "47/47 [==============================] - 1s 28ms/step - loss: 0.0891 - accuracy: 0.9651 - val_loss: 0.1861 - val_accuracy: 0.9307\n",
      "Epoch 10/10\n",
      "47/47 [==============================] - 1s 28ms/step - loss: 0.0550 - accuracy: 0.9785 - val_loss: 0.0765 - val_accuracy: 0.9733\n"
     ]
    }
   ],
   "source": [
    "import tensorflow as tf\n",
    "import matplotlib.pyplot as plt\n",
    "\n",
    "# Atur parameter\n",
    "batch_size = 32\n",
    "img_height = 180\n",
    "img_width = 180\n",
    "\n",
    "# Load training set\n",
    "train_ds = tf.keras.utils.image_dataset_from_directory(\n",
    "    \"../data/train\",\n",
    "    image_size=(img_height, img_width),\n",
    "    batch_size=batch_size,\n",
    "    label_mode=\"categorical\"\n",
    ")\n",
    "\n",
    "# Load test set\n",
    "val_ds = tf.keras.utils.image_dataset_from_directory(\n",
    "    \"../data/test\",\n",
    "    image_size=(img_height, img_width),\n",
    "    batch_size=batch_size,\n",
    "    label_mode=\"categorical\"\n",
    ")\n",
    "\n",
    "# Cek kelas\n",
    "class_names = train_ds.class_names\n",
    "print(\"Kelas terdeteksi:\", class_names)\n",
    "\n",
    "# Cek satu batch sample\n",
    "for images, labels in train_ds.take(1):\n",
    "    print(\"Shape gambar:\", images.shape)\n",
    "    print(\"Label (one-hot):\", labels[0])\n",
    "\n",
    "\n",
    "model = tf.keras.Sequential([\n",
    "    # Normalisasi piksel ke range 0–1\n",
    "    tf.keras.layers.Rescaling(1./255, input_shape=(img_height, img_width, 3)),\n",
    "\n",
    "    # Convolution + Pooling Layer 1\n",
    "    tf.keras.layers.Conv2D(16, 3, activation='relu'),\n",
    "    tf.keras.layers.MaxPooling2D(),\n",
    "\n",
    "    # Convolution + Pooling Layer 2\n",
    "    tf.keras.layers.Conv2D(32, 3, activation='relu'),\n",
    "    tf.keras.layers.MaxPooling2D(),\n",
    "\n",
    "    # Convolution + Pooling Layer 3\n",
    "    tf.keras.layers.Conv2D(64, 3, activation='relu'),\n",
    "    tf.keras.layers.MaxPooling2D(),\n",
    "\n",
    "    # Flatten + Dense Layer\n",
    "    tf.keras.layers.Flatten(),\n",
    "    tf.keras.layers.Dense(128, activation='relu'),\n",
    "\n",
    "    # Output Layer untuk 4 kelas dengan softmax\n",
    "    tf.keras.layers.Dense(4, activation='softmax')\n",
    "])\n",
    "\n",
    "model.compile(\n",
    "    optimizer='adam',\n",
    "    loss='categorical_crossentropy',\n",
    "    metrics=['accuracy']\n",
    ")\n",
    "\n",
    "history = model.fit(\n",
    "    train_ds,\n",
    "    validation_data=val_ds,\n",
    "    epochs=10\n",
    ")\n",
    "\n",
    "# Ekstrak data dari hasil training\n",
    "acc = history.history['accuracy']\n",
    "val_acc = history.history['val_accuracy']\n",
    "loss = history.history['loss']\n",
    "val_loss = history.history['val_loss']\n",
    "epochs_range = range(1, len(acc) + 1)\n",
    "\n",
    "# Plot grafik akurasi dan loss\n",
    "plt.figure(figsize=(12, 5))\n",
    "\n",
    "# Plot Akurasi\n",
    "plt.subplot(1, 2, 1)\n",
    "plt.plot(epochs_range, acc, label='Training Accuracy')\n",
    "plt.plot(epochs_range, val_acc, label='Validation Accuracy')\n",
    "plt.legend(loc='lower right')\n",
    "plt.title('Training vs Validation Accuracy')\n",
    "\n",
    "# Plot Loss\n",
    "plt.subplot(1, 2, 2)\n",
    "plt.plot(epochs_range, loss, label='Training Loss')\n",
    "plt.plot(epochs_range, val_loss, label='Validation Loss')\n",
    "plt.legend(loc='upper right')\n",
    "plt.title('Training vs Validation Loss')\n",
    "\n",
    "plt.tight_layout()\n",
    "plt.show()\n"
   ]
  }
 ],
 "metadata": {
  "kernelspec": {
   "display_name": "Python 3",
   "language": "python",
   "name": "python3"
  },
  "language_info": {
   "codemirror_mode": {
    "name": "ipython",
    "version": 3
   },
   "file_extension": ".py",
   "mimetype": "text/x-python",
   "name": "python",
   "nbconvert_exporter": "python",
   "pygments_lexer": "ipython3",
   "version": "3.8.19"
  }
 },
 "nbformat": 4,
 "nbformat_minor": 5
}
